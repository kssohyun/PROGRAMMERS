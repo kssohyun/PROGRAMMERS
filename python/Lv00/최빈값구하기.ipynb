{
 "cells": [
  {
   "attachments": {},
   "cell_type": "markdown",
   "metadata": {},
   "source": [
    "https://school.programmers.co.kr/learn/courses/30/lessons/120812"
   ]
  },
  {
   "cell_type": "code",
   "execution_count": null,
   "metadata": {},
   "outputs": [],
   "source": [
    "def solution(array):\n",
    "    dic = {}\n",
    "    for i in array:\n",
    "        dic[i] = array.count(i)\n",
    "    counts = list(dic.values())\n",
    "    if counts.count(max(counts)) >1:\n",
    "        return -1\n",
    "    else:\n",
    "        reversed_dic = dict(map(reversed,dic.items()))\n",
    "        return reversed_dic[max(counts)]"
   ]
  },
  {
   "cell_type": "code",
   "execution_count": null,
   "metadata": {},
   "outputs": [],
   "source": [
    "##\n",
    "def solution(array):\n",
    "    while len(array) != 0:\n",
    "        for i, a in enumerate(set(array)):\n",
    "            array.remove(a)\n",
    "        if i == 0: return a\n",
    "    return -1"
   ]
  }
 ],
 "metadata": {
  "language_info": {
   "name": "python"
  },
  "orig_nbformat": 4
 },
 "nbformat": 4,
 "nbformat_minor": 2
}
