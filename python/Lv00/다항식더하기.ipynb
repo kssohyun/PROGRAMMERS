{
 "cells": [
  {
   "attachments": {},
   "cell_type": "markdown",
   "metadata": {},
   "source": [
    "https://school.programmers.co.kr/learn/courses/30/lessons/120863"
   ]
  },
  {
   "cell_type": "code",
   "execution_count": null,
   "metadata": {},
   "outputs": [],
   "source": [
    "def solution(polynomial):\n",
    "    polynomial=polynomial.split(\" + \")\n",
    "    answer = 0\n",
    "    answer2 = 0\n",
    "    for i in polynomial:\n",
    "        if \"x\" in i:\n",
    "            if i == \"x\":\n",
    "                i = i.replace(\"x\",\"1x\")\n",
    "            i = i.replace(\"x\",\"\")\n",
    "            answer += int(i)\n",
    "        else:\n",
    "            answer2 += int(i)\n",
    "    if answer == 0:\n",
    "        return str(answer2)\n",
    "    if answer == 0 and answer2 == 0:\n",
    "        return \"0\"\n",
    "    if answer == 1:\n",
    "        answer=\"\"\n",
    "    if answer2 == 0 :\n",
    "        return f\"{answer}x\"\n",
    "    return f\"{str(answer)}x + {str(answer2)}\"\n",
    "\n",
    "    "
   ]
  }
 ],
 "metadata": {
  "kernelspec": {
   "display_name": "Python 3",
   "language": "python",
   "name": "python3"
  },
  "language_info": {
   "codemirror_mode": {
    "name": "ipython",
    "version": 3
   },
   "file_extension": ".py",
   "mimetype": "text/x-python",
   "name": "python",
   "nbconvert_exporter": "python",
   "pygments_lexer": "ipython3",
   "version": "3.9.6 (default, Aug  5 2022, 15:21:02) \n[Clang 14.0.0 (clang-1400.0.29.102)]"
  },
  "orig_nbformat": 4,
  "vscode": {
   "interpreter": {
    "hash": "31f2aee4e71d21fbe5cf8b01ff0e069b9275f58929596ceb00d14d90e3e16cd6"
   }
  }
 },
 "nbformat": 4,
 "nbformat_minor": 2
}
