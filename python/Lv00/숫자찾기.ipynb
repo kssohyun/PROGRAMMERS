{
 "cells": [
  {
   "attachments": {},
   "cell_type": "markdown",
   "metadata": {},
   "source": [
    "https://school.programmers.co.kr/learn/courses/30/lessons/120904"
   ]
  },
  {
   "cell_type": "code",
   "execution_count": null,
   "metadata": {},
   "outputs": [],
   "source": [
    "def solution(num,k):\n",
    "    a = str(num).find(str(k))\n",
    "    return a+1 if a>=0 else a"
   ]
  },
  {
   "cell_type": "code",
   "execution_count": null,
   "metadata": {},
   "outputs": [],
   "source": [
    "def solution(num, k):\n",
    "    return -1 if str(k) not in str(num) else str(num).find(str(k))+1"
   ]
  },
  {
   "cell_type": "code",
   "execution_count": null,
   "metadata": {},
   "outputs": [],
   "source": [
    "def solution(num, k):\n",
    "    for i, n in enumerate(str(num)):\n",
    "        if str(k) == n:\n",
    "            return i+1\n",
    "    return -1"
   ]
  }
 ],
 "metadata": {
  "language_info": {
   "name": "python"
  },
  "orig_nbformat": 4
 },
 "nbformat": 4,
 "nbformat_minor": 2
}
