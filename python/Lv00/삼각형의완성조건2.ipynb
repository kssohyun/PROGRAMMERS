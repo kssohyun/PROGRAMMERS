{
 "cells": [
  {
   "attachments": {},
   "cell_type": "markdown",
   "metadata": {},
   "source": [
    "https://school.programmers.co.kr/learn/courses/30/lessons/120868"
   ]
  },
  {
   "cell_type": "code",
   "execution_count": null,
   "metadata": {},
   "outputs": [],
   "source": [
    "def solution(sides):\n",
    "    answer =[]\n",
    "    #가장 긴 변이 sides에 있는 경우\n",
    "    for i in range(1,max(sides)+1):    \n",
    "        if max(sides) < i + min(sides):\n",
    "            answer.append(i)\n",
    "    #가장 긴 변이 i인 경우\n",
    "    i = max(sides)+1\n",
    "    while True:\n",
    "        if i< max(sides) + min(sides):\n",
    "            answer.append(i)\n",
    "            i+=1\n",
    "        else: \n",
    "            break\n",
    "    return len(list(set(answer)))"
   ]
  }
 ],
 "metadata": {
  "language_info": {
   "name": "python"
  },
  "orig_nbformat": 4
 },
 "nbformat": 4,
 "nbformat_minor": 2
}
