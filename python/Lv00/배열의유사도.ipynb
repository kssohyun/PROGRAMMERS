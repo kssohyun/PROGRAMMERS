{
 "cells": [
  {
   "cell_type": "markdown",
   "metadata": {},
   "source": [
    "#https://school.programmers.co.kr/learn/courses/30/lessons/"
   ]
  },
  {
   "cell_type": "code",
   "execution_count": null,
   "metadata": {},
   "outputs": [],
   "source": [
    "def solution(s1, s2):\n",
    "    answer = 0\n",
    "    for i in s1:\n",
    "        for j in s2:\n",
    "            if i ==j :\n",
    "                answer+=1\n",
    "                \n",
    "    return answer"
   ]
  }
 ],
 "metadata": {
  "language_info": {
   "name": "python"
  },
  "orig_nbformat": 4
 },
 "nbformat": 4,
 "nbformat_minor": 2
}
