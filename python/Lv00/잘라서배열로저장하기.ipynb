{
 "cells": [
  {
   "attachments": {},
   "cell_type": "markdown",
   "metadata": {},
   "source": [
    "https://school.programmers.co.kr/learn/courses/30/lessons/120913"
   ]
  },
  {
   "cell_type": "code",
   "execution_count": null,
   "metadata": {},
   "outputs": [],
   "source": [
    "def solution(my_str,n):\n",
    "    answer = []\n",
    "    i=0\n",
    "    while True:\n",
    "        if i+n<=len(my_str):\n",
    "            answer.append(my_str[i:i+n])\n",
    "            if i+n==len(my_str):\n",
    "                break\n",
    "            i=i+n\n",
    "            \n",
    "        else:\n",
    "            answer.append(my_str[i:])\n",
    "            break\n",
    "    return answer\n"
   ]
  },
  {
   "cell_type": "code",
   "execution_count": null,
   "metadata": {},
   "outputs": [],
   "source": [
    "def solution(my_str, n):\n",
    "    return [my_str[i:i+n] for  i in range(0,len(my_str),n)]"
   ]
  },
  {
   "cell_type": "code",
   "execution_count": null,
   "metadata": {},
   "outputs": [],
   "source": [
    "def solution(my_str,n):\n",
    "    answer = []\n",
    "    while len(my_str) > n:\n",
    "        answer.append(my_str[:n])\n",
    "        my_str = my_str[n:]\n",
    "\n",
    "    if my_str != \"\":\n",
    "        answer.append(my_str)\n",
    "\n",
    "    return answer"
   ]
  }
 ],
 "metadata": {
  "language_info": {
   "name": "python"
  },
  "orig_nbformat": 4
 },
 "nbformat": 4,
 "nbformat_minor": 2
}
