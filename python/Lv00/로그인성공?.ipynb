{
 "cells": [
  {
   "attachments": {},
   "cell_type": "markdown",
   "metadata": {},
   "source": [
    "https://school.programmers.co.kr/learn/courses/30/lessons/120883"
   ]
  },
  {
   "cell_type": "code",
   "execution_count": null,
   "metadata": {},
   "outputs": [],
   "source": [
    "def solution(id_pw, db):\n",
    "    for i in db :\n",
    "        if i[0] == id_pw[0] and i[1] ==id_pw[1]:\n",
    "            return \"login\"\n",
    "        elif i[0] == id_pw[0] and i[1] != id_pw[1]:\n",
    "            return \"wrong pw\"\n",
    "        else:\n",
    "            pass\n",
    "    return \"fail\""
   ]
  },
  {
   "cell_type": "code",
   "execution_count": null,
   "metadata": {},
   "outputs": [],
   "source": [
    "def solution(id_pw,db):\n",
    "    dic = dict(db)\n",
    "    if dic.get(id_pw[0],-1) == id_pw[1]:\n",
    "        return \"login\"\n",
    "    elif dic.get(id_pw[0],-1) == -1:\n",
    "        return \"fail\"\n",
    "    else:\n",
    "        return \"wrong pw\""
   ]
  }
 ],
 "metadata": {
  "language_info": {
   "name": "python"
  },
  "orig_nbformat": 4
 },
 "nbformat": 4,
 "nbformat_minor": 2
}
