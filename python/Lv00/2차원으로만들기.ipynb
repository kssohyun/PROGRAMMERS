{
 "cells": [
  {
   "cell_type": "markdown",
   "metadata": {},
   "source": [
    "https://school.programmers.co.kr/learn/courses/30/lessons/120842"
   ]
  },
  {
   "cell_type": "code",
   "execution_count": null,
   "metadata": {},
   "outputs": [],
   "source": [
    "def solution(num_list, n):\n",
    "    answer = []\n",
    "    i=0\n",
    "    while(i<len(num_list)):\n",
    "        answer.append(num_list[i:i+n])\n",
    "        i+=n\n",
    "    return answer"
   ]
  },
  {
   "cell_type": "code",
   "execution_count": null,
   "metadata": {},
   "outputs": [],
   "source": [
    "def solution(num_list, n):\n",
    "    answer = []\n",
    "    for i in range(0, len(num_list), n):\n",
    "        answer.append(num_list[i:i+n])\n",
    "    return answer"
   ]
  }
 ],
 "metadata": {
  "language_info": {
   "name": "python"
  },
  "orig_nbformat": 4
 },
 "nbformat": 4,
 "nbformat_minor": 2
}
