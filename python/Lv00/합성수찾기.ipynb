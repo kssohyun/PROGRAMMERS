{
 "cells": [
  {
   "attachments": {},
   "cell_type": "markdown",
   "metadata": {},
   "source": [
    "https://school.programmers.co.kr/learn/courses/30/lessons/120846"
   ]
  },
  {
   "cell_type": "code",
   "execution_count": null,
   "metadata": {},
   "outputs": [],
   "source": [
    "def solution(n):\n",
    "    num = []\n",
    "    count = 0\n",
    "    for i in range(2,n+1):\n",
    "        for j in range(1,i+1):\n",
    "            if i % j == 0 :\n",
    "                num.append(i)\n",
    "        if num.count(i) >=3:\n",
    "            count += 1\n",
    "    return count\n",
    "        "
   ]
  },
  {
   "cell_type": "code",
   "execution_count": null,
   "metadata": {},
   "outputs": [],
   "source": [
    "def solution(n):\n",
    "    answer = 0\n",
    "    for i in range(4, n+1):\n",
    "        count = 0\n",
    "        for j in range(1,i+1):\n",
    "            if i%j==0:\n",
    "                count+=1\n",
    "                if count>=3:\n",
    "                    answer+=1\n",
    "                    break\n",
    "    return answer"
   ]
  }
 ],
 "metadata": {
  "language_info": {
   "name": "python"
  },
  "orig_nbformat": 4
 },
 "nbformat": 4,
 "nbformat_minor": 2
}
