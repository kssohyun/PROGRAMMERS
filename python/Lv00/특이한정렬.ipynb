{
 "cells": [
  {
   "attachments": {},
   "cell_type": "markdown",
   "metadata": {},
   "source": [
    "https://school.programmers.co.kr/learn/courses/30/lessons/120880"
   ]
  },
  {
   "cell_type": "code",
   "execution_count": null,
   "metadata": {},
   "outputs": [],
   "source": [
    "def solution(numlist, n):\n",
    "    num = sorted([abs(n-i) for i in numlist])\n",
    "    numlists = sorted(numlist,reverse=True)\n",
    "    answer = []\n",
    "    for i in num:\n",
    "        for j in numlists:\n",
    "            if abs(j-n) == i:\n",
    "                answer.append(j)\n",
    "                #list로 for문 돌면서 지우기\n",
    "                numlists.remove(j)\n",
    "    return answer"
   ]
  },
  {
   "cell_type": "code",
   "execution_count": null,
   "metadata": {},
   "outputs": [],
   "source": [
    "def solution(numlist,n):\n",
    "    #lambda sorted\n",
    "    # abs(x-n)순으로 정렬, key의 반환값 비교하며 정렬, 작은거부터 오름차순\n",
    "    answer = sorted(numlist, key = lambda x : (abs(x-n),n-x))\n",
    "    return answer"
   ]
  }
 ],
 "metadata": {
  "kernelspec": {
   "display_name": "Python 3",
   "language": "python",
   "name": "python3"
  },
  "language_info": {
   "name": "python",
   "version": "3.9.6 (default, Aug  5 2022, 15:21:02) \n[Clang 14.0.0 (clang-1400.0.29.102)]"
  },
  "orig_nbformat": 4,
  "vscode": {
   "interpreter": {
    "hash": "31f2aee4e71d21fbe5cf8b01ff0e069b9275f58929596ceb00d14d90e3e16cd6"
   }
  }
 },
 "nbformat": 4,
 "nbformat_minor": 2
}
