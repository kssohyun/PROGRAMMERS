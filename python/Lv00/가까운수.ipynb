{
 "cells": [
  {
   "attachments": {},
   "cell_type": "markdown",
   "metadata": {},
   "source": [
    "https://school.programmers.co.kr/learn/courses/30/lessons/120890"
   ]
  },
  {
   "cell_type": "code",
   "execution_count": null,
   "metadata": {},
   "outputs": [],
   "source": [
    "def solution(array, n):\n",
    "    m,k = abs(n-array[0]),0\n",
    "    for i,j in enumerate(array):\n",
    "        if m > abs(n-j):\n",
    "            m=abs(n-j)\n",
    "            k=i\n",
    "        elif m == abs(n-j):\n",
    "            m=abs(n-j)\n",
    "            if array[k] > array[i]:\n",
    "                k=i\n",
    "    return array[k]"
   ]
  },
  {
   "cell_type": "code",
   "execution_count": null,
   "metadata": {},
   "outputs": [],
   "source": [
    "#key 우선순위가 정해짐\n",
    "#비교 아이템 요소가 복수개 일 경우 튜플로 우선순위 \n",
    "def solution(array,n):\n",
    "    array.sort(key=lambda x:(abs(x-n),x))\n",
    "    answer = array[0]\n",
    "    return answer"
   ]
  }
 ],
 "metadata": {
  "kernelspec": {
   "display_name": "Python 3",
   "language": "python",
   "name": "python3"
  },
  "language_info": {
   "name": "python",
   "version": "3.9.6 (default, Aug  5 2022, 15:21:02) \n[Clang 14.0.0 (clang-1400.0.29.102)]"
  },
  "orig_nbformat": 4,
  "vscode": {
   "interpreter": {
    "hash": "31f2aee4e71d21fbe5cf8b01ff0e069b9275f58929596ceb00d14d90e3e16cd6"
   }
  }
 },
 "nbformat": 4,
 "nbformat_minor": 2
}
