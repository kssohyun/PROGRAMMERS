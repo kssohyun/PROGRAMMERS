{
 "cells": [
  {
   "attachments": {},
   "cell_type": "markdown",
   "metadata": {},
   "source": [
    "https://school.programmers.co.kr/learn/courses/30/lessons/120848"
   ]
  },
  {
   "cell_type": "code",
   "execution_count": null,
   "metadata": {},
   "outputs": [],
   "source": [
    "def solution(n):\n",
    "    for i in range(0,11):\n",
    "        pac = 1\n",
    "        for j in range(1,i+1):\n",
    "            pac *=j\n",
    "            if pac==n:\n",
    "                return i\n",
    "            elif pac >n:\n",
    "                return i-1\n",
    "            else:\n",
    "                pass"
   ]
  },
  {
   "cell_type": "code",
   "execution_count": null,
   "metadata": {},
   "outputs": [],
   "source": [
    "def solution(n):\n",
    "    from math import factorial\n",
    "    k = 10\n",
    "    while n <factorial(k):\n",
    "        k-=1\n",
    "        return k\n"
   ]
  },
  {
   "cell_type": "code",
   "execution_count": null,
   "metadata": {},
   "outputs": [],
   "source": [
    "import math\n",
    "def solution(n):\n",
    "    num, k =1,1\n",
    "    while(num<=n):\n",
    "        num*=k\n",
    "        k+=1\n",
    "    return k-2"
   ]
  }
 ],
 "metadata": {
  "language_info": {
   "name": "python"
  },
  "orig_nbformat": 4
 },
 "nbformat": 4,
 "nbformat_minor": 2
}
