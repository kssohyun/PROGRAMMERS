{
 "cells": [
  {
   "cell_type": "code",
   "execution_count": null,
   "metadata": {},
   "outputs": [],
   "source": [
    "def solution(my_string, num1, num2):\n",
    "    answer = ''\n",
    "    for i in range(0,len(my_string)):\n",
    "        if i == num1 :\n",
    "            answer += my_string[num2]\n",
    "        elif i == num2:\n",
    "            answer += my_string[num1]\n",
    "        else:\n",
    "            answer+= my_string[i]\n",
    "    return answer"
   ]
  },
  {
   "cell_type": "code",
   "execution_count": null,
   "metadata": {},
   "outputs": [],
   "source": [
    "def solution(my_string, num1, num2):\n",
    "    s = list(my_string)\n",
    "    s[num1], s[num2] = s[num2], s[num1]\n",
    "    return ''.join(s)"
   ]
  }
 ],
 "metadata": {
  "language_info": {
   "name": "python"
  },
  "orig_nbformat": 4
 },
 "nbformat": 4,
 "nbformat_minor": 2
}
