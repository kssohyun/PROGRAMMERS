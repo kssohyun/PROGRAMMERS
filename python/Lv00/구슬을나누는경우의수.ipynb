{
 "cells": [
  {
   "attachments": {},
   "cell_type": "markdown",
   "metadata": {},
   "source": [
    "https://school.programmers.co.kr/learn/courses/30/lessons/120840"
   ]
  },
  {
   "cell_type": "code",
   "execution_count": null,
   "metadata": {},
   "outputs": [],
   "source": [
    "def solution(balls, share):\n",
    "    answer , answer2=1,1\n",
    "    i = balls\n",
    "    while (i>=balls-share+1):\n",
    "        answer*=i\n",
    "        i-=1\n",
    "        if i == (balls-share):\n",
    "            break\n",
    "    for i in range(1,share+1):\n",
    "        answer2 *= i\n",
    "    return answer/answer2"
   ]
  },
  {
   "cell_type": "code",
   "execution_count": null,
   "metadata": {},
   "outputs": [],
   "source": [
    "def factorial(n):\n",
    "    result = 1\n",
    "    for i in range(1,n+1):\n",
    "        result = result*i\n",
    "    return result\n",
    "\n",
    "def solution(balls, share):\n",
    "    answer = factorial(balls)/(factorial(balls-share)*factorial(share))"
   ]
  },
  {
   "cell_type": "code",
   "execution_count": null,
   "metadata": {},
   "outputs": [],
   "source": [
    "import math\n",
    "def solution(balls,share):\n",
    "    return math.factorial(balls)/(math.factorial(balls-share)*math.factorial(share))"
   ]
  }
 ],
 "metadata": {
  "language_info": {
   "name": "python"
  },
  "orig_nbformat": 4
 },
 "nbformat": 4,
 "nbformat_minor": 2
}
