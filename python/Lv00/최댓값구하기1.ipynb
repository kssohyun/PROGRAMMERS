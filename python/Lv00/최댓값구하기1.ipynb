{
 "cells": [
  {
   "cell_type": "code",
   "execution_count": null,
   "metadata": {},
   "outputs": [],
   "source": [
    "https://school.programmers.co.kr/learn/courses/30/lessons/120847"
   ]
  },
  {
   "cell_type": "code",
   "execution_count": null,
   "metadata": {},
   "outputs": [],
   "source": [
    "def solution(numbers):\n",
    "    max_numbers = 0\n",
    "    for i in range(0,len(numbers)):\n",
    "        for j in range(0,len(numbers)):\n",
    "            if (numbers[i]*numbers[j] > max_numbers) and (i!=j):\n",
    "                max_numbers = numbers[i]*numbers[j]\n",
    "            else:\n",
    "                pass\n",
    "    return max_numbers"
   ]
  },
  {
   "cell_type": "code",
   "execution_count": null,
   "metadata": {},
   "outputs": [],
   "source": [
    "#다른풀이\n",
    "def solution(numbers):\n",
    "    numbers.sort()\n",
    "    max_numbers = numbers[-1]*numbers[-2]\n",
    "    return max_numbers"
   ]
  }
 ],
 "metadata": {
  "kernelspec": {
   "display_name": "Python 3.9.6 64-bit",
   "language": "python",
   "name": "python3"
  },
  "language_info": {
   "name": "python",
   "version": "3.9.6"
  },
  "orig_nbformat": 4,
  "vscode": {
   "interpreter": {
    "hash": "31f2aee4e71d21fbe5cf8b01ff0e069b9275f58929596ceb00d14d90e3e16cd6"
   }
  }
 },
 "nbformat": 4,
 "nbformat_minor": 2
}
