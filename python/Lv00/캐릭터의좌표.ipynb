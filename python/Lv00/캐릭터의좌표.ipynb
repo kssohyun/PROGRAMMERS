{
 "cells": [
  {
   "attachments": {},
   "cell_type": "markdown",
   "metadata": {},
   "source": [
    "https://school.programmers.co.kr/learn/courses/30/lessons/120861"
   ]
  },
  {
   "cell_type": "code",
   "execution_count": null,
   "metadata": {},
   "outputs": [],
   "source": [
    "def solution(keyinput, board):\n",
    "    answer = [0,0]\n",
    "    boards = [board[i]//2 for i in range(0,len(board))]\n",
    "    key = {\"left\":[-1,0],\"right\":[1,0],\"up\":[0,1],\"down\":[0,-1]}\n",
    "    for i in keyinput:\n",
    "        if abs(answer[0]+key[i][0])>boards[0]:\n",
    "            pass\n",
    "        elif abs(answer[1]+key[i][1])>boards[1]:\n",
    "            pass\n",
    "        else:\n",
    "            answer[0] += key[i][0]\n",
    "            answer[1] += key[i][1]\n",
    "    return answer"
   ]
  },
  {
   "cell_type": "code",
   "execution_count": null,
   "metadata": {},
   "outputs": [],
   "source": [
    "def solution(keyinput, board):\n",
    "    x_lim, y_lim = board[0]//2, board[1]//2\n",
    "    move = {'left':(-1,0),'right':(1,0),'up':(0,1),'down':(0,-1)}\n",
    "    x,y = 0,0\n",
    "    for k in keyinput:\n",
    "        dx,dy = move[k]\n",
    "        if abs(x+dx)>x_lim or abs(y+dy)>y_lim:\n",
    "            continue\n",
    "        else:\n",
    "            x,y = x+dx, y+dy\n",
    "    return [x,y]"
   ]
  }
 ],
 "metadata": {
  "kernelspec": {
   "display_name": "Python 3",
   "language": "python",
   "name": "python3"
  },
  "language_info": {
   "codemirror_mode": {
    "name": "ipython",
    "version": 3
   },
   "file_extension": ".py",
   "mimetype": "text/x-python",
   "name": "python",
   "nbconvert_exporter": "python",
   "pygments_lexer": "ipython3",
   "version": "3.9.6"
  },
  "orig_nbformat": 4,
  "vscode": {
   "interpreter": {
    "hash": "31f2aee4e71d21fbe5cf8b01ff0e069b9275f58929596ceb00d14d90e3e16cd6"
   }
  }
 },
 "nbformat": 4,
 "nbformat_minor": 2
}
